{
 "cells": [
  {
   "cell_type": "markdown",
   "metadata": {},
   "source": [
    "# <span style=\"color:#336699\">Introdução à Programação em Python na Plataforma TerraMA<sup>2</sup></span>\n",
    "<hr style=\"border:2px solid #0077b9;\">\n",
    "\n",
    "[<img src=\"./img/terrama2-logo.png\" alt=\"TerraMA2\" width=\"150px;\" align=\"right\">](http://www.terrama2.dpi.inpe.br/)\n",
    "\n",
    "\n",
    "- Gilberto Ribeiro de Queiroz\n",
    "- Eymar Lopes\n",
    "- Fabiano Morelli"
   ]
  },
  {
   "cell_type": "markdown",
   "metadata": {},
   "source": [
    "# Introdução\n",
    "<hr style=\"border:1px solid #0077b9;\">"
   ]
  },
  {
   "attachments": {},
   "cell_type": "markdown",
   "metadata": {},
   "source": [
    "Por que Python?\n",
    "\n",
    "* Trata-se de uma linguagem de propósito geral que pode ser utilizada para construção de diversos tipos de aplicações.<br><br>\n",
    "\n",
    "* Linguagem simples de aprender e usar.<br><br>\n",
    "\n",
    "* Por ser uma linguagem interpretada facilita seu uso por iniciantes na arte de programação.<br><br>\n",
    "\n",
    "* Umas das linguagens mais populares na atualidade.<br><br>\n",
    "\n",
    "* Existe um grande número de bibliotecas disponíveis como software livre para Python, como as bibliotecas para computação científica.<br><br>\n",
    "\n",
    "* Vários aplicativos GIS utilizam esta linguagem para criação de pequenos programas ou automação de atividades rotineiras."
   ]
  },
  {
   "cell_type": "markdown",
   "metadata": {},
   "source": [
    "# Nomes e Variáveis\n",
    "<hr style=\"border:1px solid #0077b9;\">"
   ]
  },
  {
   "cell_type": "markdown",
   "metadata": {},
   "source": [
    "## Associação\n",
    "<hr style=\"border:0.5px solid #0077b9;\">"
   ]
  },
  {
   "cell_type": "markdown",
   "metadata": {},
   "source": [
    "Podemos associar valores a nomes (variáveis):"
   ]
  },
  {
   "cell_type": "code",
   "execution_count": null,
   "metadata": {},
   "outputs": [],
   "source": [
    "a = 10\n",
    "b = 20\n",
    "c = a + b"
   ]
  },
  {
   "cell_type": "code",
   "execution_count": null,
   "metadata": {},
   "outputs": [],
   "source": [
    "print(a)"
   ]
  },
  {
   "cell_type": "code",
   "execution_count": null,
   "metadata": {},
   "outputs": [],
   "source": [
    "print(b)"
   ]
  },
  {
   "cell_type": "code",
   "execution_count": null,
   "metadata": {},
   "outputs": [],
   "source": [
    "print(c)"
   ]
  },
  {
   "cell_type": "markdown",
   "metadata": {},
   "source": [
    "O código abaixo cria três nomes associados ao mesmo objeto, o valor literal `30`:"
   ]
  },
  {
   "cell_type": "code",
   "execution_count": null,
   "metadata": {},
   "outputs": [],
   "source": [
    "a = b = c = 30\n",
    "\n",
    "print(a is b)\n",
    "print(b is c)"
   ]
  },
  {
   "cell_type": "markdown",
   "metadata": {},
   "source": [
    "Podemos reassociar um nome (*rebind*) a outro objeto:"
   ]
  },
  {
   "cell_type": "code",
   "execution_count": null,
   "metadata": {},
   "outputs": [],
   "source": [
    "a = b = c = 30\n",
    "\n",
    "b = 40\n",
    "print(a is c)\n",
    "print(a is b)\n",
    "print(b is c)"
   ]
  },
  {
   "cell_type": "markdown",
   "metadata": {},
   "source": [
    "Podemos realizar atribuições múltoplas (*multiple assignments*):"
   ]
  },
  {
   "cell_type": "code",
   "execution_count": null,
   "metadata": {},
   "outputs": [],
   "source": [
    "a,b,c = 1,2,3\n",
    "\n",
    "print(a)\n",
    "print(b)\n",
    "print(c)"
   ]
  },
  {
   "cell_type": "code",
   "execution_count": null,
   "metadata": {},
   "outputs": [],
   "source": [
    "a, b = b, a\n",
    "\n",
    "print(a)\n",
    "print(b)"
   ]
  },
  {
   "cell_type": "markdown",
   "metadata": {},
   "source": [
    "## Leitura de Variáveis\n",
    "<hr style=\"border:0.5px solid #0077b9;\">"
   ]
  },
  {
   "cell_type": "markdown",
   "metadata": {},
   "source": [
    "Essas são algumas formas de inspecionar o valor de uma variável:"
   ]
  },
  {
   "cell_type": "code",
   "execution_count": null,
   "metadata": {},
   "outputs": [],
   "source": [
    "print(a)"
   ]
  },
  {
   "cell_type": "code",
   "execution_count": null,
   "metadata": {},
   "outputs": [],
   "source": [
    "a"
   ]
  },
  {
   "cell_type": "markdown",
   "metadata": {},
   "source": [
    "## Help\n",
    "<hr style=\"border:0.5px solid #0077b9;\">"
   ]
  },
  {
   "cell_type": "markdown",
   "metadata": {},
   "source": [
    "Podemos invocar o sistema de ajuda através da função `help([objeto])`:"
   ]
  },
  {
   "cell_type": "code",
   "execution_count": null,
   "metadata": {},
   "outputs": [],
   "source": [
    "help(str)"
   ]
  },
  {
   "cell_type": "markdown",
   "metadata": {},
   "source": [
    "# Tipos Primitivos em Python\n",
    "<hr style=\"border:1px solid #0077b9;\">"
   ]
  },
  {
   "cell_type": "code",
   "execution_count": null,
   "metadata": {},
   "outputs": [],
   "source": [
    "l = False\n",
    "n = 12.333\n",
    "i = 64\n",
    "cx = 3+2j\n",
    "str1 = 'programming'\n",
    "str2 = \"programming\"\n",
    "nil = None       # geralmente usado para indicar \"ausência\" de um valor\n",
    "                 # uso comum: parâmetros opicionais em funções"
   ]
  },
  {
   "cell_type": "code",
   "execution_count": null,
   "metadata": {},
   "outputs": [],
   "source": [
    "type(l)"
   ]
  },
  {
   "cell_type": "code",
   "execution_count": null,
   "metadata": {},
   "outputs": [],
   "source": [
    "type(n)"
   ]
  },
  {
   "cell_type": "code",
   "execution_count": null,
   "metadata": {},
   "outputs": [],
   "source": [
    "type(i)"
   ]
  },
  {
   "cell_type": "code",
   "execution_count": null,
   "metadata": {},
   "outputs": [],
   "source": [
    "type(cx)"
   ]
  },
  {
   "cell_type": "code",
   "execution_count": null,
   "metadata": {},
   "outputs": [],
   "source": [
    "type(str1)"
   ]
  },
  {
   "cell_type": "code",
   "execution_count": null,
   "metadata": {},
   "outputs": [],
   "source": [
    "type(str2)"
   ]
  },
  {
   "cell_type": "code",
   "execution_count": null,
   "metadata": {},
   "outputs": [],
   "source": [
    "type(nil)"
   ]
  },
  {
   "attachments": {},
   "cell_type": "markdown",
   "metadata": {},
   "source": [
    "# Sequências\n",
    "<hr style=\"border:1px solid #0077b9;\">"
   ]
  },
  {
   "attachments": {},
   "cell_type": "markdown",
   "metadata": {},
   "source": [
    "Uma sequência é um conjunto ordenado de `n` valores:\n",
    "* $a_0, a_1, a_2, ..., a_{n-1}$<br><br>\n",
    "\n",
    "* Cada elemento de uma sequência é associado a um número: índice ou posição.\n",
    "\n",
    "* O primeiro índice é o zero.\n",
    "\n",
    "Os três tipos básicos de sequências são:\n",
    "* **Strings:** sequência imutável de caracteres.<br><br>\n",
    "\n",
    "* **Tuplas:** sequência imutável de valores (ou itens).<br><br>\n",
    "\n",
    "* **Listas:** sequência de valores (ou itens), que pode crescer, encolher, ou alterar elementos."
   ]
  },
  {
   "cell_type": "markdown",
   "metadata": {},
   "source": [
    "Strings:"
   ]
  },
  {
   "cell_type": "code",
   "execution_count": null,
   "metadata": {},
   "outputs": [],
   "source": [
    "name = \"Gilberto Ribeiro\"\n",
    "\n",
    "c = \"b\"\n",
    "\n",
    "print(c in name)"
   ]
  },
  {
   "cell_type": "code",
   "execution_count": null,
   "metadata": {},
   "outputs": [],
   "source": [
    "nc = len(name)\n",
    "print(nc)"
   ]
  },
  {
   "cell_type": "code",
   "execution_count": null,
   "metadata": {},
   "outputs": [],
   "source": [
    "pos = name.index(\"i\")\n",
    "print(pos)"
   ]
  },
  {
   "cell_type": "code",
   "execution_count": null,
   "metadata": {},
   "outputs": [],
   "source": [
    "print(name[0:])"
   ]
  },
  {
   "cell_type": "code",
   "execution_count": null,
   "metadata": {},
   "outputs": [],
   "source": [
    "print(name[0:8])"
   ]
  },
  {
   "cell_type": "code",
   "execution_count": null,
   "metadata": {},
   "outputs": [],
   "source": [
    "print(name[-1:])"
   ]
  },
  {
   "cell_type": "code",
   "execution_count": null,
   "metadata": {},
   "outputs": [],
   "source": [
    "print(name[-5:])"
   ]
  },
  {
   "cell_type": "code",
   "execution_count": null,
   "metadata": {},
   "outputs": [],
   "source": [
    "print(name[0:7:2])"
   ]
  },
  {
   "cell_type": "code",
   "execution_count": null,
   "metadata": {},
   "outputs": [],
   "source": [
    "print(name[::2])"
   ]
  },
  {
   "cell_type": "markdown",
   "metadata": {},
   "source": [
    "As tuplas são expressas através de uma sequência cujo os itens são separados por vírgula e delimitados ou não por parênteses:"
   ]
  },
  {
   "cell_type": "code",
   "execution_count": null,
   "metadata": {},
   "outputs": [],
   "source": [
    "# Coordenadas do centróide da Cidade de São Paulo/Brasil\n",
    "centroide_sp = (-46.7165, -23.6830)\n",
    "\n",
    "print(centroide_sp)\n",
    "\n",
    "print(\"longitude: {} latitude: {}\".format(*centroide_sp))\n",
    "\n",
    "print( len(centroide_sp) )\n",
    "\n",
    "longitude = centroide_sp[0]\n",
    "latitude = centroide_sp[1]"
   ]
  },
  {
   "cell_type": "markdown",
   "metadata": {},
   "source": [
    "Listas são expressas através de uma sequência cujo os itens são separados por vírgula e delimitados por colchetes:"
   ]
  },
  {
   "cell_type": "code",
   "execution_count": null,
   "metadata": {},
   "outputs": [],
   "source": [
    "cidades = [\"São Paulo\", \"Rio de Janeiro\", \"Belo Horizonte\", \"Ouro Preto\"]\n",
    "\n",
    "print(cidades)\n",
    "\n",
    "# Ordenando a lista\n",
    "cidades.sort()\n",
    "print(cidades)\n",
    "\n",
    "# Gera uma nova lista \"ordenada ao contrário\"\n",
    "nova_lista = sorted(cidades, reverse=True)\n",
    "print(nova_lista)\n",
    "print(cidades)"
   ]
  },
  {
   "cell_type": "code",
   "execution_count": null,
   "metadata": {},
   "outputs": [],
   "source": [
    "l_letras = list( \"Gilberto\" )\n",
    "print(l_letras)"
   ]
  },
  {
   "cell_type": "markdown",
   "metadata": {},
   "source": [
    "Quebrando uma string em várias palavras:"
   ]
  },
  {
   "cell_type": "code",
   "execution_count": null,
   "metadata": {},
   "outputs": [],
   "source": [
    "words = 'The quick brown fox jumps over the lazy dog'.split()\n",
    "print(words)"
   ]
  },
  {
   "cell_type": "code",
   "execution_count": null,
   "metadata": {},
   "outputs": [],
   "source": [
    "primos = list( (1, 2, 3, 5, 7) )\n",
    "print(primos)"
   ]
  },
  {
   "cell_type": "code",
   "execution_count": null,
   "metadata": {},
   "outputs": [],
   "source": [
    "seq1 = list( range(10) )\n",
    "print(seq1)"
   ]
  },
  {
   "cell_type": "code",
   "execution_count": null,
   "metadata": {},
   "outputs": [],
   "source": [
    "seq2 = list( range(3, 10) )\n",
    "print(seq2)"
   ]
  },
  {
   "cell_type": "code",
   "execution_count": null,
   "metadata": {},
   "outputs": [],
   "source": [
    "lista_vazia = []\n",
    "print(lista_vazia)"
   ]
  },
  {
   "cell_type": "markdown",
   "metadata": {},
   "source": [
    "Existem diversas operações comuns entre os tipos de sequência:\n",
    "\n",
    "| Operação | Resultado |\n",
    "|-----------|--------|\n",
    "| `x in s` | True if an item of s is equal to x, else False |\n",
    "| `x not in s` | False if an item of s is equal to x, else True |\n",
    "| `s + t` | the concatenation of s and t |\n",
    "| `s * n, n * s` | equivalent to adding s to itself n times |\n",
    "| `s[i]` | ith item of s, origin 0 |\n",
    "| `s[i:j]` | slice of s from i to j |\n",
    "| `s[i:j:k]` | slice of s from i to j with step k |\n",
    "| `len(s)` | length of s |\n",
    "| `min(s)` | smallest item of s | \n",
    "| `max(s)` | largest item of s |\n",
    "| `s.index(x)` | index of the first occurrence of x in s |\n",
    "| `s.count(x)` | total number of occurrences of x in s |\n",
    "<center>**Source:** [The Python Standard Library](https://docs.python.org/2/library/stdtypes.html#sequence-types-str-unicode-list-tuple-bytearray-buffer-xrange)</center>"
   ]
  },
  {
   "cell_type": "markdown",
   "metadata": {},
   "source": [
    "# List Comprehension\n",
    "<hr style=\"border:1px solid #0077b9;\">"
   ]
  },
  {
   "cell_type": "code",
   "execution_count": null,
   "metadata": {},
   "outputs": [],
   "source": [
    "f_ident = [ x for x in range(0, 10) ]\n",
    "print(f_ident)"
   ]
  },
  {
   "cell_type": "code",
   "execution_count": null,
   "metadata": {},
   "outputs": [],
   "source": [
    "f_quad = [ x**2 for x in range(0, 10) ]\n",
    "print(f_quad)"
   ]
  },
  {
   "cell_type": "code",
   "execution_count": null,
   "metadata": {},
   "outputs": [],
   "source": [
    "f_exp = [ 2**x for x in range(0, 10) ]\n",
    "print(f_exp)"
   ]
  },
  {
   "cell_type": "code",
   "execution_count": null,
   "metadata": {},
   "outputs": [],
   "source": [
    "words = 'The quick brown fox jumps over the lazy dog'.split()\n",
    "\n",
    "capitalized = [w.upper() for w in words]\n",
    "\n",
    "print(capitalized)"
   ]
  },
  {
   "cell_type": "markdown",
   "metadata": {},
   "source": [
    "**Observação:** [Mutable Sequence Types](https://docs.python.org/2/library/stdtypes.html#mutable-sequence-types)."
   ]
  },
  {
   "cell_type": "markdown",
   "metadata": {},
   "source": [
    "# Estruturas de Controle\n",
    "<hr style=\"border:1px solid #0077b9;\">"
   ]
  },
  {
   "cell_type": "markdown",
   "metadata": {},
   "source": [
    "## Estrutura Condicional\n",
    "<hr style=\"border:0.5px solid #0077b9;\">"
   ]
  },
  {
   "attachments": {},
   "cell_type": "markdown",
   "metadata": {},
   "source": [
    "<center><img src=\"img/fluxograma-estrutura-condicional.png\" alt=\"Fluxograma da estrutura condicional\" width=\"480\"><br>\n",
    "**Figura 1** - Fluxograma da estrutura condicional.</center>"
   ]
  },
  {
   "cell_type": "markdown",
   "metadata": {},
   "source": [
    "<center><img src=\"img/comando-if.png\" alt=\"Estrutura condicional em Python\" width=\"480\"><br>\n",
    "**Figura 2** - Estrutura condicional em Python.</center>"
   ]
  },
  {
   "attachments": {},
   "cell_type": "markdown",
   "metadata": {},
   "source": [
    "Sintaxe geral:\n",
    "\n",
    "```python\n",
    "if expressão lógica:\n",
    "    bloco de código\n",
    "elif expressão lógica:\n",
    "    bloco de Código\n",
    "else:\n",
    "    bloco de código\n",
    "```\n",
    "\n",
    "ou:\n",
    "\n",
    "```python\n",
    "if expressão lógica:\n",
    "    bloco de código\n",
    "elif expressão lógica:\n",
    "    bloco de Código\n",
    "```"
   ]
  },
  {
   "cell_type": "code",
   "execution_count": null,
   "metadata": {},
   "outputs": [],
   "source": [
    "ndvi = float( input(\"NDVI: \") )\n",
    "\n",
    "if (ndvi > 0.3) and (ndvi < 0.8):\n",
    "    print(\"vegetação densa!\")\n",
    "\n",
    "print(\"NDVI: \", ndvi)"
   ]
  },
  {
   "cell_type": "code",
   "execution_count": null,
   "metadata": {},
   "outputs": [],
   "source": [
    "ndvi = float( input(\"NDVI: \") )\n",
    "\n",
    "if (ndvi > 0.3) and (ndvi < 0.8):\n",
    "    print(\"vegetação densa!\")\n",
    "else:\n",
    "    print(\"pouca vegetação!\")\n",
    "\n",
    "print(\"NDVI: \", ndvi)"
   ]
  },
  {
   "cell_type": "code",
   "execution_count": null,
   "metadata": {},
   "outputs": [],
   "source": [
    "ndvi = float( input(\"NDVI: \") )\n",
    "\n",
    "if (ndvi < -1.0) or (ndvi > 1.0):\n",
    "    print(\"NDVI fora do intervalo!\")\n",
    "elif (ndvi > 0.3) and (ndvi < 0.8):\n",
    "    print(\"vegetação densa!\")\n",
    "else:\n",
    "    print(\"pouca vegetação!\")\n",
    "\n",
    "print(\"NDVI: \", ndvi)"
   ]
  },
  {
   "cell_type": "markdown",
   "metadata": {},
   "source": [
    "Algumas considerações sobre as estuturas condicionais em Python:\n",
    "* As estruturas condicionais podem ser aninhadas, isto é, podem ser instruções dentro das cláusulas if, else e elif.<br><br>\n",
    "\n",
    "* A seção de código ou bloco de comandos dentro das cláusulas if, else e elif podem conter diversas instruções.<br><br>\n",
    "\n",
    "* Atente-se para a identação das instruções."
   ]
  },
  {
   "cell_type": "markdown",
   "metadata": {},
   "source": [
    "### Exercício\n",
    "<hr style=\"border:0.5px solid #0077b9;\">\n",
    "\n",
    "**Exercício 1.** Os anos bissextos ocorrem a cada quatro anos, exceto anos múltiplos de `100` que não são múltiplos de `400`. Escreva um programa que pergunte ao usuário o número de um ano qualquer e então escreva na saída padrão se o ano fornecido é ou não bissexto.\n",
    "\n",
    "**Solução:**"
   ]
  },
  {
   "cell_type": "code",
   "execution_count": null,
   "metadata": {},
   "outputs": [],
   "source": [
    "%load solucoes/bissexto.py"
   ]
  },
  {
   "cell_type": "markdown",
   "metadata": {},
   "source": [
    "## Estruturas de Repetição\n",
    "<hr style=\"border:0.5px solid #0077b9;\">"
   ]
  },
  {
   "cell_type": "markdown",
   "metadata": {},
   "source": [
    "**Problema:** Escrever um programa para converter a tabela abaixo de temperaturas em graus Fahrenheit na equivalente na escala Celsius."
   ]
  },
  {
   "attachments": {},
   "cell_type": "markdown",
   "metadata": {},
   "source": [
    "<center><img src=\"img/fahrenheit-celsius.png\" alt=\"Conversão entre Escalas de Temperatura: oF → oC\" width=\"480\"><br>\n",
    "    **Figura 3** - Conversão entre Escalas de Temperatura: <sup>o</sup>F → <sup>o</sup>C.</center>"
   ]
  },
  {
   "attachments": {},
   "cell_type": "markdown",
   "metadata": {},
   "source": [
    "Como implementar esse programa?\n",
    "\n",
    "Comandos de Repetição:\n",
    "* Muitas das computações que realizamos em um programa são inerentemente repetitivas.<br><br>\n",
    "\n",
    "* Nas linguagens imperativas, encontramos estruturas específicas para essa finalidade, que são chamadas de comandos de repetição ou laços (loops) ou estruturas de repetição.<br><br>\n",
    "\n",
    "* Através desses comandos, podemos realizar uma computação até que uma certa condição seja satisfeita."
   ]
  },
  {
   "cell_type": "markdown",
   "metadata": {},
   "source": [
    "<center><img src=\"img/fluxograma-repeticao.png\" alt=\"Fluxograma estrutura de repetição\" width=\"480\"><br>\n",
    "    **Figura 4** - Fluxograma estrutura de repetição.</center>"
   ]
  },
  {
   "cell_type": "markdown",
   "metadata": {},
   "source": [
    "### Laços com Interrupção no Início\n",
    "<hr style=\"border:0.5px solid #0077b9;\">"
   ]
  },
  {
   "cell_type": "markdown",
   "metadata": {},
   "source": [
    "```python\n",
    "while <condição>:\n",
    "    instrução-1\n",
    "    instrução-2\n",
    "    ...\n",
    "    instrução-n\n",
    "```\n",
    "\n",
    "Nesse tipo de laço, se a expressão lógica ou condição de repetição no início do laço for verdadeira, os comandos (ou instruções) dentro da estrutura de repetição são executados de maneira sequencial.\n",
    "\n",
    "Ao final da execução dos comandos, internos ao laço, o fluxo de controle do programa volta ao início, para nova avaliação da expressão lógica.\n",
    "\n",
    "Se a expressão for satisfeita novamente (verdadeira), o corpo do laço é novamente executado, até que a repetição seja interrompida quando a expressão resultar em um valor falso.\n",
    "\n",
    "**Exemplo.** Conversão entre Escalas de Temperatura: <sup>o</sup>F → <sup>o</sup>C"
   ]
  },
  {
   "cell_type": "code",
   "execution_count": null,
   "metadata": {},
   "outputs": [],
   "source": [
    "t_min = 0\n",
    "\n",
    "t_max = 300\n",
    "\n",
    "delta_t = 20\n",
    "\n",
    "fahr = t_min\n",
    "\n",
    "while fahr <= t_max:\n",
    "    celsius = 5 * (fahr - 32) / 9\n",
    "    \n",
    "    print(fahr, celsius)\n",
    "    \n",
    "    fahr = fahr + delta_t"
   ]
  },
  {
   "cell_type": "markdown",
   "metadata": {},
   "source": [
    "**Exemplo.** Somatório simples: $\\displaystyle \\sum_{i=1}^{5} i$"
   ]
  },
  {
   "cell_type": "code",
   "execution_count": null,
   "metadata": {},
   "outputs": [],
   "source": [
    "i = 1\n",
    "soma = 0\n",
    "\n",
    "while i <= 5:\n",
    "    soma = soma + i\n",
    "    print(i, soma)\n",
    "    i = i + 1\n",
    "\n",
    "print(\"Soma Final:\", soma)\n",
    "print(\"Valor final de i:\", i)"
   ]
  },
  {
   "cell_type": "markdown",
   "metadata": {},
   "source": [
    "### Exercício\n",
    "<hr style=\"border:0.5px solid #0077b9;\">\n",
    "\n",
    "**Exercício 2.** Escreva um programa em Python que leia um número inteiro `n` entre `1` e `10` e compute o fatorial desse número. Lembre-se que o fatorial de um número `n` é definindo como:\n",
    "$$\n",
    "n! = \\prod_{i=1}^{n} i\n",
    "$$\n",
    "ou,\n",
    "$$\n",
    " n! =\n",
    "  \\begin{cases}\n",
    "    1       & \\quad \\text{se } n = 0\\\\\n",
    "    n \\times (n - 1)! & \\quad \\text{se } n > 0\n",
    "  \\end{cases}\n",
    "$$\n",
    "\n",
    "**Solução:**"
   ]
  },
  {
   "cell_type": "code",
   "execution_count": null,
   "metadata": {},
   "outputs": [],
   "source": [
    "%load solucoes/fatorial.py"
   ]
  },
  {
   "attachments": {},
   "cell_type": "markdown",
   "metadata": {},
   "source": [
    "### Laços do tipo `for`\n",
    "<hr style=\"border:0.5px solid #0077b9;\">\n",
    "\n",
    "Sintaxe:\n",
    "```python\n",
    "for variavel-it in sequência:\n",
    "    instrução-1\n",
    "    instrução-2\n",
    "    ...\n",
    "    instrução-n\n",
    "```\n",
    "\n",
    "Esse tipo de laço é muito útil quando estamos lidando com sequências, como strings, listas e tuplas."
   ]
  },
  {
   "cell_type": "markdown",
   "metadata": {},
   "source": [
    "**1.** Iterating over a sequence of characters."
   ]
  },
  {
   "cell_type": "code",
   "execution_count": null,
   "metadata": {},
   "outputs": [],
   "source": [
    "name = \"Gilberto Ribeiro\"\n",
    "\n",
    "for c in name:\n",
    "    print(c)"
   ]
  },
  {
   "cell_type": "markdown",
   "metadata": {},
   "source": [
    "**2.** Iterating on a list (sequence):"
   ]
  },
  {
   "cell_type": "code",
   "execution_count": null,
   "metadata": {},
   "outputs": [],
   "source": [
    "fruits = ['apple', 'avocado', 'banana', 'strawberry', 'pineapple', 'orange', 'guava']\n",
    "\n",
    "sorted_fruits = sorted(fruits)\n",
    "\n",
    "for fruit in sorted_fruits:\n",
    "  print(fruit)"
   ]
  },
  {
   "cell_type": "markdown",
   "metadata": {},
   "source": [
    "**Exemplo.** Somatório simples: $\\displaystyle \\sum_{i=1}^{5} i$"
   ]
  },
  {
   "cell_type": "code",
   "execution_count": null,
   "metadata": {},
   "outputs": [],
   "source": [
    "soma = 0\n",
    "\n",
    "for i in range(1, 6):\n",
    "    soma = soma + i\n",
    "    print(i, soma)\n",
    "\n",
    "print(\"Soma Final:\", soma)\n",
    "print(\"Valor final de i:\", i)\n"
   ]
  },
  {
   "cell_type": "markdown",
   "metadata": {},
   "source": [
    "**Exemplo.** Atravessando duas Listas"
   ]
  },
  {
   "cell_type": "code",
   "execution_count": null,
   "metadata": {},
   "outputs": [],
   "source": [
    "print(\"Conversão de F -> C\")\n",
    "\n",
    "fahr = [ 0, 20, 40, 60, 80, 100 ]\n",
    "\n",
    "celsius = [ 5*(x-32)/9 for x in fahr ]\n",
    "\n",
    "for f, c in zip(fahr, celsius):\n",
    "    print(f, c)\n",
    "\n",
    "print(\"Fim!\")\n"
   ]
  },
  {
   "cell_type": "markdown",
   "metadata": {},
   "source": [
    "Algumas considerações sobre laços em Python:\n",
    "* Interrompendo um laço: Podemos utilizar dentro dos laços a instrução `break`, que faz com que o fluxo de execução do laço seja quebrado, isto é, desviado para a instrução seguinte ao laço.<br><br>\n",
    "\n",
    "* Desviando a sequência de um laço: A instrução `continue` desvia o fluxo de execução de dentro do laço para a próxima iteração.<br><br>\n",
    "\n",
    "* Em geral essas duas instruções (`break` e `continue`) são colocadas dentro de um teste condicional no corpo do laço."
   ]
  },
  {
   "cell_type": "markdown",
   "metadata": {},
   "source": [
    "### Exercício\n",
    "<hr style=\"border:0.5px solid #0077b9;\">\n",
    "\n",
    "**Exercício 3.** Considere a seguinte lista:\n",
    "```python\n",
    "[ 0, 1, 1, 2, 3, 5, 8, 13, 21, 34, 55, 89 ]\n",
    "```\n",
    "\n",
    "Faça um programa em Python que realize a soma dessa lista e escreva o valor da soma.\n",
    "\n",
    "**Solução:**"
   ]
  },
  {
   "cell_type": "code",
   "execution_count": null,
   "metadata": {},
   "outputs": [],
   "source": [
    "%load solucoes/soma.py"
   ]
  },
  {
   "cell_type": "markdown",
   "metadata": {},
   "source": [
    "# Funções\n",
    "<hr style=\"border:1px solid #0077b9;\">"
   ]
  },
  {
   "cell_type": "markdown",
   "metadata": {},
   "source": [
    "Toda linguagem de programação de alto nível possui alguns comandos que são compostos, isto é, comandos que contém grupos de outros comandos. Os comandos `if`, `while`, e `for`, vistos acima, são exemplos de comandos compostos que permitem controlar o fluxo de execução de um outro grupo de outros comandos.\n",
    "\n",
    "Como vimos, um laço do tipo `while` pode conter um único comando ou uma sequência de diversos outros comandos, inclusive pode conter outros comandos do tipo `while`, no caso em que chamamos de comandos `while` aninhados.\n",
    "\n",
    "Em Python, temos outros quatro tipos de comandos compostos, são eles:\n",
    "- `try`: que define um bloco de comandos onde é possível realizar tratamento de exceções durante a execução de seus comandos.<br><br>\n",
    "\n",
    "- `with`: definição de um blocos de comandos que deva inicializar algum recurso no início da sua execução e ao final da sua execução tenha que finalizar (ou liberar) esses recursos.<br><br>\n",
    "\n",
    "- `def`: permite definir uma função.<br><br>\n",
    "\n",
    "- `class`: permite definição de classes.\n",
    "\n",
    "Esta seção irá abordar o tópico de criação de funções."
   ]
  },
  {
   "cell_type": "markdown",
   "metadata": {},
   "source": [
    "## O que é uma função?\n",
    "<hr style=\"border:0.25px solid #0077b9;\">\n",
    "\n",
    "Uma forma de modularizar programas consiste em organizá-los em **procedimentos** ou **funções**. Uma função é um bloco de código auto-contido, identificado com um nome, uma lista de parâmetros e que pode ser invocada em nossos programas da mesma forma que as funções da linguagem Python.\n",
    "\n",
    "A `Figura 1` apresenta a lógica de uso de uma função denominada `f`. Repare que o programa após executar os comandos `comando #1` e `comando #2`, desvia seu fluxo de execução ao atingir o comando `v = f(...)`. Nesse ponto dizemos que a função `f` foi *chamada* ou *invocada*. O fluxo é então desviado para a sequência de instruções definida pela função, mostrada no lado direito da `Figura 1`. A sequência de comandos da função `f` é encerrada quando o comando `return` é encontrado, devolvendo o controle do programa para a linha onde a função foi chamada. O valor produzido pela função `f` será associado ao nome `v` (ou variável `v`) e o programa continuará a execução da sequência de instruções a partir do comando `comando #i + 1`.\n",
    "\n",
    "<center><img src=\"img/chamada-funcoes.png\" alt=\"Ilustração da chamada de uma função\" width=\"640\"><br>\n",
    "**Figura 1** - Ilustração do processo de chamada de uma função.</center>"
   ]
  },
  {
   "cell_type": "markdown",
   "metadata": {},
   "source": [
    "## Definindo uma Função\n",
    "<hr style=\"border:0.5px solid #0077b9;\">"
   ]
  },
  {
   "cell_type": "markdown",
   "metadata": {},
   "source": [
    "Uma função em Python pode ser definida utilizando a palavra reservada `def` seguida do nome da função e a lista de parâmetros formais dessa função. A `Figura 2` mostra a definição da função `Fatorial`. A linha com a *assinatura* ou *declaração* da função é terminada com o símbolo `:`. Logo abaixo dessa linha incluímos o corpo da função, isto é, uma sequência de comandos que implementa a funcionalidade a ser fornecida pela função. Repare que a sequência de comandos do corpo da função deve ser indentada, isto é, a sequência deve possuir um recuo à direita. Em geral, usamos 4 espaços nesse recuo.\n",
    "\n",
    "<center><img src=\"img/definicao-funcao.png\" alt=\"Definindo uma função chamada Fatorial\" width=\"480\"><br>\n",
    "**Figura 2** - Definição de uma função chamada `Fatorial`.</center>\n",
    "\n",
    "A instrução `return` pode ser usada para indicar um ponto de saída da função, isto é, um ponto em que ela já tenha realizado sua computação e deva retornar um mais valores produzidos pela função.\n",
    "\n",
    "Uma função pode não retornar nenhum valor, como é o caso da função `print` de Python que apenas escreve um texto na saída padrão. Nesse tipo de função a instrução `return` pode ser utilizada sem nenhuma expressão a sua direita.\n",
    "\n",
    "Em Python uma função pode retornar mais de um valor. Nesse caso a instrução `return` pode ser usada para retornar uma lista de valores.\n",
    "\n",
    "A função `Fatorial` mostrada abaixo computa o fatorial de um número inteiro positivo:"
   ]
  },
  {
   "cell_type": "code",
   "execution_count": null,
   "metadata": {},
   "outputs": [],
   "source": [
    "def Fatorial(num):\n",
    "\n",
    "    if (num < 0) or (type(num) != int):\n",
    "        raise ValueError(\"O Fatorial só é definido para números inteiros positivos!\")\n",
    "\n",
    "    produto = 1\n",
    "\n",
    "    while(num > 0):\n",
    "        produto = produto * num\n",
    "\n",
    "        num = num - 1\n",
    "\n",
    "    return produto"
   ]
  },
  {
   "cell_type": "markdown",
   "metadata": {},
   "source": [
    "Repare na definição da função `Fatorial` (`linha 1`) que ela possui um único parâmetro formal chamado `num`. Isso indica que a função `Fatorial` deverá ser chamada com apenas um argumento. Além disso, na `linha 13` após terminar a computação do valor do fatorial que estará associado ao nome `produto`, a instrução `return` irá retornar o fluxo de execução do programa para a linha que chamou essa função.\n",
    "\n",
    "Na definição da função `Fatorial` acima, ainda podemos observar que o bloco de comandos contido na função encontra-se indentado com 4 espaços. A `linha 4` possui um recúo maior pois esse comando faz parte do comando `if` da `linha 3`. Da mesma maneira, as `linhas 9 e 10` possuem um recúo maior pois fazem parte da instrução `while` da `linha 8`.\n",
    "\n",
    "O trecho de código abaixo mostra como essa função pode ser chamada em um programa, supondo que ela tenha sido definida anteriormente:"
   ]
  },
  {
   "cell_type": "code",
   "execution_count": null,
   "metadata": {},
   "outputs": [],
   "source": [
    "print(\"Exemplo de uso da função Fatorial!\")\n",
    "\n",
    "resultado = Fatorial(6)\n",
    "\n",
    "print(resultado)"
   ]
  },
  {
   "cell_type": "code",
   "execution_count": null,
   "metadata": {},
   "outputs": [],
   "source": [
    "resultado = Fatorial()"
   ]
  },
  {
   "cell_type": "markdown",
   "metadata": {},
   "source": [
    "Na linha 3 do programa acima, ao chamar a função `Fatorial` com o valor `6` como argumento dessa função, o fluxo de controle é passado para a sequência de comandos do corpo da função `Fatorial`. O valor `6` será associado ao parâmetro `num` na função `Fatorial`, ou seja, dentro da função esse valor `6` será usado através da variável `num`. A `linha 13` da função `Fatorial` retorna o valor calculado, que ficará então associado ao nome `resultado` na `linha 3` do programa, que então voltará a executar sua sequência de instruções.\n",
    "\n",
    "Agora, vamos criar uma nova função para calcular a distância euclidiana entre dois pontos no espaço cartesiano:"
   ]
  },
  {
   "cell_type": "code",
   "execution_count": null,
   "metadata": {},
   "outputs": [],
   "source": [
    "import math\n",
    "\n",
    "def DistanciaEuclidiana(x1, y1, x2, y2):\n",
    "    \n",
    "    Δx = x1 - x2\n",
    "    Δy = y1 - y2\n",
    "    \n",
    "    d = math.sqrt(Δx**2 + Δy**2)\n",
    "    \n",
    "    return d"
   ]
  },
  {
   "cell_type": "markdown",
   "metadata": {},
   "source": [
    "Essa nova função foi nomeada de `DistanciaEuclidiana`, sendo definida com quatro parâmetros: `x1`, `y1`, `x2`, e `y2`. Portanto, para ser usada em um programa ela deverá ser chamada fornecendo quatro argumentos, como no programa abaixo:"
   ]
  },
  {
   "cell_type": "code",
   "execution_count": null,
   "metadata": {},
   "outputs": [],
   "source": [
    "d1 = DistanciaEuclidiana(0, 0, 1, 1)\n",
    "\n",
    "print(d1)\n",
    "\n",
    "d2 = DistanciaEuclidiana(2, 3, 10, 3)\n",
    "\n",
    "print(d2)"
   ]
  },
  {
   "cell_type": "markdown",
   "metadata": {},
   "source": [
    "Se você informar um número menor de argumentos na chamada da função `DistanciaEuclidiana`, como no trecho de código abaixo, o compilador Python irá lançar uma exceção, indicando o erro da falta do quarto parâmetro:"
   ]
  },
  {
   "cell_type": "code",
   "execution_count": null,
   "metadata": {},
   "outputs": [],
   "source": [
    "d3 = DistanciaEuclidiana(0, 0, 1)\n",
    "\n",
    "print(d3)"
   ]
  },
  {
   "cell_type": "markdown",
   "metadata": {},
   "source": [
    "**Observação:** A definição de uma função não faz com que o corpo da função seja executada. O corpo somente é executado quando a função é chamada (ou invocada).\n",
    "\n",
    "**Nota:** Para mais informações sobre o tópico de funções, consulte a [seguinte nota aula](https://github.com/gqueiroz/ser347/blob/master/2018/aula-12/funcoes.ipynb)."
   ]
  },
  {
   "cell_type": "markdown",
   "metadata": {},
   "source": [
    "## Exercícios\n",
    "<hr style=\"border:0.25px solid #0077b9;\">"
   ]
  },
  {
   "cell_type": "markdown",
   "metadata": {},
   "source": [
    "**Exercício 4.** A fórmula de Haversine possbilita o cálculo de distâncias entre dois pontos em uma esfera a partir de suas latitudes e longitudes. Dada a seguinte fórmula:\n",
    "\n",
    "$$\n",
    "d = 2r \\arcsin{\\sqrt{sin^2({\\frac{\\phi_2 - \\phi_1}{2}}) + \\cos{\\phi_1} \\cos{\\phi_2} \\sin^2({\\frac{\\lambda_2 - \\lambda_1}{2}})}}\n",
    "$$\n",
    "\n",
    "onde:\n",
    "- **$d$:** distância entre dois pontos na esfera.\n",
    "- **$r$:** é o raio da esfera (~6371km).\n",
    "- **$\\phi_1$** e **$\\phi_2$:** latitude dos pontos em radianos.\n",
    "- **$\\lambda_1$** e **$\\lambda_2$:** longitude dos pontos em radianos.\n",
    "\n",
    "Construa uma função chamada `DistanciaHaversine` que receba quatro valores de entrada representando duas localizações quaisquer em grau-decimal e que retorne um único valor com a distância em `km`. Para maiores detalhes sobre essa fórmua, veja a [Wikipedia](https://en.wikipedia.org/wiki/Haversine_formula).\n",
    "\n",
    "**Solução:**"
   ]
  },
  {
   "cell_type": "code",
   "execution_count": null,
   "metadata": {},
   "outputs": [],
   "source": [
    "%load solucoes/haversine.py"
   ]
  }
 ],
 "metadata": {
  "kernelspec": {
   "display_name": "Python (ser347)",
   "language": "python",
   "name": "ser347"
  },
  "language_info": {
   "codemirror_mode": {
    "name": "ipython",
    "version": 3
   },
   "file_extension": ".py",
   "mimetype": "text/x-python",
   "name": "python",
   "nbconvert_exporter": "python",
   "pygments_lexer": "ipython3",
   "version": "3.6.5"
  }
 },
 "nbformat": 4,
 "nbformat_minor": 2
}
